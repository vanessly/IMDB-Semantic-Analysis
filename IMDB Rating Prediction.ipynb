{
 "cells": [
  {
   "cell_type": "code",
   "execution_count": 268,
   "id": "bedfd277",
   "metadata": {},
   "outputs": [],
   "source": [
    "import numpy as np\n",
    "import pandas as pd\n",
    "import tensorflow as tf"
   ]
  },
  {
   "cell_type": "markdown",
   "id": "0968ceee",
   "metadata": {},
   "source": [
    "# Data Preprocessing"
   ]
  },
  {
   "cell_type": "code",
   "execution_count": 269,
   "id": "1751eaf4",
   "metadata": {},
   "outputs": [],
   "source": [
    "# Read CSV file\n",
    "r = pd.read_csv('IMDB_reviews.csv')"
   ]
  },
  {
   "cell_type": "code",
   "execution_count": 270,
   "id": "3b060d45",
   "metadata": {
    "scrolled": true
   },
   "outputs": [
    {
     "data": {
      "text/html": [
       "<div>\n",
       "<style scoped>\n",
       "    .dataframe tbody tr th:only-of-type {\n",
       "        vertical-align: middle;\n",
       "    }\n",
       "\n",
       "    .dataframe tbody tr th {\n",
       "        vertical-align: top;\n",
       "    }\n",
       "\n",
       "    .dataframe thead th {\n",
       "        text-align: right;\n",
       "    }\n",
       "</style>\n",
       "<table border=\"1\" class=\"dataframe\">\n",
       "  <thead>\n",
       "    <tr style=\"text-align: right;\">\n",
       "      <th></th>\n",
       "      <th>review</th>\n",
       "      <th>sentiment</th>\n",
       "    </tr>\n",
       "  </thead>\n",
       "  <tbody>\n",
       "    <tr>\n",
       "      <th>0</th>\n",
       "      <td>One of the other reviewers has mentioned that ...</td>\n",
       "      <td>positive</td>\n",
       "    </tr>\n",
       "    <tr>\n",
       "      <th>1</th>\n",
       "      <td>A wonderful little production. &lt;br /&gt;&lt;br /&gt;The...</td>\n",
       "      <td>positive</td>\n",
       "    </tr>\n",
       "    <tr>\n",
       "      <th>2</th>\n",
       "      <td>I thought this was a wonderful way to spend ti...</td>\n",
       "      <td>positive</td>\n",
       "    </tr>\n",
       "    <tr>\n",
       "      <th>3</th>\n",
       "      <td>Basically there's a family where a little boy ...</td>\n",
       "      <td>negative</td>\n",
       "    </tr>\n",
       "    <tr>\n",
       "      <th>4</th>\n",
       "      <td>Petter Mattei's \"Love in the Time of Money\" is...</td>\n",
       "      <td>positive</td>\n",
       "    </tr>\n",
       "    <tr>\n",
       "      <th>5</th>\n",
       "      <td>Probably my all-time favorite movie, a story o...</td>\n",
       "      <td>positive</td>\n",
       "    </tr>\n",
       "    <tr>\n",
       "      <th>6</th>\n",
       "      <td>I sure would like to see a resurrection of a u...</td>\n",
       "      <td>positive</td>\n",
       "    </tr>\n",
       "    <tr>\n",
       "      <th>7</th>\n",
       "      <td>This show was an amazing, fresh &amp; innovative i...</td>\n",
       "      <td>negative</td>\n",
       "    </tr>\n",
       "    <tr>\n",
       "      <th>8</th>\n",
       "      <td>Encouraged by the positive comments about this...</td>\n",
       "      <td>negative</td>\n",
       "    </tr>\n",
       "    <tr>\n",
       "      <th>9</th>\n",
       "      <td>If you like original gut wrenching laughter yo...</td>\n",
       "      <td>positive</td>\n",
       "    </tr>\n",
       "  </tbody>\n",
       "</table>\n",
       "</div>"
      ],
      "text/plain": [
       "                                              review sentiment\n",
       "0  One of the other reviewers has mentioned that ...  positive\n",
       "1  A wonderful little production. <br /><br />The...  positive\n",
       "2  I thought this was a wonderful way to spend ti...  positive\n",
       "3  Basically there's a family where a little boy ...  negative\n",
       "4  Petter Mattei's \"Love in the Time of Money\" is...  positive\n",
       "5  Probably my all-time favorite movie, a story o...  positive\n",
       "6  I sure would like to see a resurrection of a u...  positive\n",
       "7  This show was an amazing, fresh & innovative i...  negative\n",
       "8  Encouraged by the positive comments about this...  negative\n",
       "9  If you like original gut wrenching laughter yo...  positive"
      ]
     },
     "execution_count": 270,
     "metadata": {},
     "output_type": "execute_result"
    }
   ],
   "source": [
    "r.head(10)"
   ]
  },
  {
   "cell_type": "markdown",
   "id": "05468be0",
   "metadata": {},
   "source": [
    "## Cleaning Data"
   ]
  },
  {
   "cell_type": "code",
   "execution_count": 271,
   "id": "849ba237",
   "metadata": {},
   "outputs": [
    {
     "name": "stdout",
     "output_type": "stream",
     "text": [
      "Probably my all-time favorite movie, a story of selflessness, sacrifice and dedication to a noble cause, but it's not preachy or boring. It just never gets old, despite my having seen it some 15 or more times in the last 25 years. Paul Lukas' performance brings tears to my eyes, and Bette Davis, in one of her very few truly sympathetic roles, is a delight. The kids are, as grandma says, more like \"dressed-up midgets\" than children, but that only makes them more fun to watch. And the mother's slow awakening to what's happening in the world and under her own roof is believable and startling. If I had a dozen thumbs, they'd all be \"up\" for this movie.\n"
     ]
    }
   ],
   "source": [
    "# Pre-cleaned data\n",
    "print(r['review'][5])"
   ]
  },
  {
   "cell_type": "code",
   "execution_count": 272,
   "id": "7135ad08",
   "metadata": {},
   "outputs": [],
   "source": [
    "import nltk\n",
    "from nltk.corpus import stopwords\n",
    "from nltk.stem.porter import *\n",
    "from nltk.stem.snowball import SnowballStemmer\n",
    "from nltk.test.gensim_fixt import setup_module\n",
    "setup_module()\n",
    "import gensim\n",
    "import nltk.tokenize"
   ]
  },
  {
   "cell_type": "markdown",
   "id": "53ef65c0",
   "metadata": {},
   "source": [
    "### Stop words and stemming"
   ]
  },
  {
   "cell_type": "code",
   "execution_count": 273,
   "id": "4d028c20",
   "metadata": {},
   "outputs": [],
   "source": [
    "# Stop words will remove filler words\n",
    "# Stemmer removes word endings\n",
    "stop_words = set(stopwords.words('english'))\n",
    "stemmer = SnowballStemmer(\"english\")"
   ]
  },
  {
   "cell_type": "code",
   "execution_count": 274,
   "id": "40f8179b",
   "metadata": {},
   "outputs": [],
   "source": [
    "f_ = lambda x: ' '.join([stemmer.stem(word) for word in x.split() \n",
    "                             if word not in (sw)])"
   ]
  },
  {
   "cell_type": "code",
   "execution_count": 275,
   "id": "e0075dec",
   "metadata": {},
   "outputs": [],
   "source": [
    "r['review'] = r['review'].apply(f_)"
   ]
  },
  {
   "cell_type": "code",
   "execution_count": 276,
   "id": "a158c7b6",
   "metadata": {
    "scrolled": true
   },
   "outputs": [
    {
     "name": "stdout",
     "output_type": "stream",
     "text": [
      "probabl all-tim favorit movie, stori selflessness, sacrific dedic nobl cause, preachi boring. it never get old, despit seen 15 time last 25 years. paul luka perform bring tear eyes, bett davis, one truli sympathet roles, delight. the kid are, grandma says, like \"dressed-up midgets\" children, make fun watch. and mother slow awaken what happen world roof believ startling. if i dozen thumbs, they'd \"up\" movie.\n"
     ]
    }
   ],
   "source": [
    "# After removing stop words and stemming\n",
    "print(r['review'][5])"
   ]
  },
  {
   "cell_type": "markdown",
   "id": "e5370375",
   "metadata": {},
   "source": [
    "### Extracting words"
   ]
  },
  {
   "cell_type": "code",
   "execution_count": 277,
   "id": "b6a4d498",
   "metadata": {},
   "outputs": [],
   "source": [
    "def clean_text(data):\n",
    "    # Make all words lowercase\n",
    "    data = data.lower()\n",
    "    \n",
    "    # Remove line breaks\n",
    "    data = data.replace(\"<br /><br />\", \"\")\n",
    "    \n",
    "    # Remove distracting single quotes\n",
    "    data = re.sub(\"\\'\", \"\", data)\n",
    "    return data"
   ]
  },
  {
   "cell_type": "code",
   "execution_count": 278,
   "id": "946aa5a3",
   "metadata": {},
   "outputs": [],
   "source": [
    "temp = []\n",
    "# Turning the pandas dataframe \"Series\" to a list\n",
    "data_to_list = r['review'].values.tolist()\n",
    "for i in range(len(data_to_list)):\n",
    "    temp.append(clean_text(data_to_list[i]))"
   ]
  },
  {
   "cell_type": "code",
   "execution_count": 279,
   "id": "8131c828",
   "metadata": {},
   "outputs": [
    {
     "data": {
      "text/plain": [
       "['one review mention watch 1 oz episod hooked. they right, exact happen me.the first thing struck oz brutal unflinch scene violence, set right word go. trust me, show faint heart timid. this show pull punch regard drugs, sex violence. it hardcore, classic use word.it call oz nicknam given oswald maximum secur state penitentary. it focus main emerald city, experiment section prison cell glass front face inwards, privaci high agenda. em citi home many..aryans, muslims, gangstas, latinos, christians, italians, irish more....so scuffles, death stares, dodgi deal shadi agreement never far away.i would say main appeal show due fact goe show dare. forget pretti pictur paint mainstream audiences, forget charm, forget romance...oz mess around. the first episod i ever saw struck nasti surreal, i say i readi it, i watch more, i develop tast oz, got accustom high level graphic violence. not violence, injustic (crook guard wholl sold nickel, inmat wholl kill order get away it, well mannered, middl class inmat turn prison bitch due lack street skill prison experience) watch oz, may becom comfort uncomfort viewing....that get touch darker side.']"
      ]
     },
     "execution_count": 279,
     "metadata": {},
     "output_type": "execute_result"
    }
   ],
   "source": [
    "# After partially cleaning\n",
    "list(temp[:1])"
   ]
  },
  {
   "cell_type": "code",
   "execution_count": 280,
   "id": "5a134cdf",
   "metadata": {},
   "outputs": [],
   "source": [
    "# Remove repeating words from dataset and punctuation\n",
    "def sentence_to_words(sentences):\n",
    "    for sentence in sentences:\n",
    "        yield(gensim.utils.simple_preprocess(str(sentence), deacc=True))"
   ]
  },
  {
   "cell_type": "code",
   "execution_count": 281,
   "id": "ffb30bc9",
   "metadata": {},
   "outputs": [],
   "source": [
    "data_words = list(sentence_to_words(temp))"
   ]
  },
  {
   "cell_type": "code",
   "execution_count": 283,
   "id": "853ae328",
   "metadata": {},
   "outputs": [],
   "source": [
    "def detokenize(text):\n",
    "    return nltk.tokenize.treebank.TreebankWordDetokenizer().detokenize(text)"
   ]
  },
  {
   "cell_type": "code",
   "execution_count": 284,
   "id": "fada5222",
   "metadata": {},
   "outputs": [],
   "source": [
    "data = []\n",
    "for i in range(len(data_words)):\n",
    "    data.append(detokenize(data_words[i]))"
   ]
  },
  {
   "cell_type": "code",
   "execution_count": 285,
   "id": "5fcb5886",
   "metadata": {
    "scrolled": false
   },
   "outputs": [
    {
     "name": "stdout",
     "output_type": "stream",
     "text": [
      "probabl all tim favorit movie stori selflessness sacrific dedic nobl cause preachi boring it never get old despit seen time last years paul luka perform bring tear eyes bett davis one truli sympathet roles delight the kid are grandma says like dressed up midgets children make fun watch and mother slow awaken what happen world roof believ startling if dozen thumbs theyd up movie\n"
     ]
    }
   ],
   "source": [
    "# After fully cleaning data\n",
    "print(data[5])"
   ]
  },
  {
   "cell_type": "code",
   "execution_count": 286,
   "id": "c1495da3",
   "metadata": {},
   "outputs": [],
   "source": [
    "# Turn data to numpy array\n",
    "data = np.array(data)"
   ]
  },
  {
   "cell_type": "markdown",
   "id": "ee3d06b2",
   "metadata": {},
   "source": [
    "## Label Encoding"
   ]
  },
  {
   "cell_type": "code",
   "execution_count": 287,
   "id": "fd9a3f88",
   "metadata": {},
   "outputs": [],
   "source": [
    "from sklearn.preprocessing import LabelEncoder"
   ]
  },
  {
   "cell_type": "markdown",
   "id": "1c8680e5",
   "metadata": {},
   "source": [
    "### Encoding the output"
   ]
  },
  {
   "cell_type": "code",
   "execution_count": 288,
   "id": "4c55744a",
   "metadata": {},
   "outputs": [],
   "source": [
    "y = r['sentiment'].values"
   ]
  },
  {
   "cell_type": "code",
   "execution_count": 289,
   "id": "dc0b9e68",
   "metadata": {},
   "outputs": [
    {
     "name": "stdout",
     "output_type": "stream",
     "text": [
      "['positive' 'positive' 'positive' ... 'negative' 'negative' 'negative']\n"
     ]
    }
   ],
   "source": [
    "print(y)"
   ]
  },
  {
   "cell_type": "code",
   "execution_count": 290,
   "id": "ebc5e82f",
   "metadata": {},
   "outputs": [],
   "source": [
    "le = LabelEncoder()\n",
    "y = le.fit_transform(y)"
   ]
  },
  {
   "cell_type": "code",
   "execution_count": 291,
   "id": "870f6292",
   "metadata": {
    "scrolled": true
   },
   "outputs": [
    {
     "name": "stdout",
     "output_type": "stream",
     "text": [
      "[1 1 1 ... 0 0 0]\n"
     ]
    }
   ],
   "source": [
    "print(y)"
   ]
  },
  {
   "cell_type": "markdown",
   "id": "0514b6fc",
   "metadata": {},
   "source": [
    "## Data splitting"
   ]
  },
  {
   "cell_type": "code",
   "execution_count": 292,
   "id": "edd58540",
   "metadata": {},
   "outputs": [],
   "source": [
    "from keras.preprocessing.text import Tokenizer\n",
    "from keras.utils import pad_sequences\n",
    "from sklearn.model_selection import train_test_split"
   ]
  },
  {
   "cell_type": "markdown",
   "id": "9f2947d7",
   "metadata": {},
   "source": [
    "### Converting text data to 3D float data"
   ]
  },
  {
   "cell_type": "code",
   "execution_count": 293,
   "id": "164bf7d0",
   "metadata": {},
   "outputs": [],
   "source": [
    "max_words = 5000\n",
    "max_len = 200\n",
    "\n",
    "# Tokenizing (breaking down text into sequences of integers)\n",
    "tokenizer = Tokenizer(num_words=max_words)\n",
    "tokenizer.fit_on_texts(data)\n",
    "sequences = tokenizer.texts_to_sequences(data)\n",
    "reviews = pad_sequences(sequences, maxlen=max_len)"
   ]
  },
  {
   "cell_type": "code",
   "execution_count": 294,
   "id": "fffc8f62",
   "metadata": {
    "scrolled": false
   },
   "outputs": [
    {
     "name": "stdout",
     "output_type": "stream",
     "text": [
      "[[   0    0    0 ...  527 3612  424]\n",
      " [   0    0    0 ...  444   20  150]\n",
      " [   0    0    0 ...   30   12  992]\n",
      " ...\n",
      " [   0    0    0 ...  306  458 3493]\n",
      " [   0    0    0 ... 1859  358  539]\n",
      " [   0    0    0 ...  974  604   15]]\n"
     ]
    }
   ],
   "source": [
    "print(reviews)"
   ]
  },
  {
   "cell_type": "markdown",
   "id": "5bc30b65",
   "metadata": {},
   "source": [
    "### Splitting data"
   ]
  },
  {
   "cell_type": "code",
   "execution_count": 295,
   "id": "d8e06113",
   "metadata": {},
   "outputs": [],
   "source": [
    "X_train, X_test, y_train, y_test = train_test_split(reviews, y, random_state=0)"
   ]
  },
  {
   "cell_type": "markdown",
   "id": "8867e098",
   "metadata": {},
   "source": [
    "# Building the model"
   ]
  },
  {
   "cell_type": "code",
   "execution_count": 367,
   "id": "fbfff87d",
   "metadata": {},
   "outputs": [],
   "source": [
    "from keras.models import Sequential\n",
    "from keras.layers import Dense, Embedding, Bidirectional, LSTM\n",
    "from keras.optimizers import RMSprop,Adam\n",
    "from keras import regularizers\n",
    "from keras import backend as K\n",
    "from keras.callbacks import ModelCheckpoint\n",
    "from tensorflow.keras.callbacks import EarlyStopping"
   ]
  },
  {
   "cell_type": "code",
   "execution_count": 368,
   "id": "88aaf18b",
   "metadata": {},
   "outputs": [],
   "source": [
    "model = Sequential([\n",
    "    Embedding(max_words, 40, input_length=max_len),\n",
    "    Bidirectional(LSTM(20, dropout=0.5)),\n",
    "    Dense(1, activation=\"sigmoid\"),\n",
    "])"
   ]
  },
  {
   "cell_type": "code",
   "execution_count": 369,
   "id": "4487aac2",
   "metadata": {},
   "outputs": [
    {
     "name": "stdout",
     "output_type": "stream",
     "text": [
      "Model: \"sequential_22\"\n",
      "_________________________________________________________________\n",
      " Layer (type)                Output Shape              Param #   \n",
      "=================================================================\n",
      " embedding_23 (Embedding)    (None, 200, 40)           200000    \n",
      "                                                                 \n",
      " bidirectional_22 (Bidirecti  (None, 40)               9760      \n",
      " onal)                                                           \n",
      "                                                                 \n",
      " dense_22 (Dense)            (None, 1)                 41        \n",
      "                                                                 \n",
      "=================================================================\n",
      "Total params: 209,801\n",
      "Trainable params: 209,801\n",
      "Non-trainable params: 0\n",
      "_________________________________________________________________\n"
     ]
    }
   ],
   "source": [
    "model.summary()"
   ]
  },
  {
   "cell_type": "code",
   "execution_count": 370,
   "id": "d6b2d041",
   "metadata": {},
   "outputs": [],
   "source": [
    "early_stopping = EarlyStopping(monitor='val_loss', patience=2, restore_best_weights=True)\n",
    "model.compile(optimizer='adam',loss='binary_crossentropy', metrics=['accuracy'])"
   ]
  },
  {
   "cell_type": "code",
   "execution_count": 371,
   "id": "66fbb38c",
   "metadata": {
    "scrolled": true
   },
   "outputs": [
    {
     "name": "stdout",
     "output_type": "stream",
     "text": [
      "Epoch 1/10\n",
      "293/293 [==============================] - 89s 293ms/step - loss: 0.4275 - accuracy: 0.8072 - val_loss: 0.3053 - val_accuracy: 0.8763\n",
      "Epoch 2/10\n",
      "293/293 [==============================] - 89s 303ms/step - loss: 0.2745 - accuracy: 0.8911 - val_loss: 0.2905 - val_accuracy: 0.8826\n",
      "Epoch 3/10\n",
      "293/293 [==============================] - 106s 362ms/step - loss: 0.2437 - accuracy: 0.9067 - val_loss: 0.2977 - val_accuracy: 0.8808\n",
      "Epoch 4/10\n",
      "293/293 [==============================] - 64s 219ms/step - loss: 0.2254 - accuracy: 0.9118 - val_loss: 0.2976 - val_accuracy: 0.8791\n"
     ]
    },
    {
     "data": {
      "text/plain": [
       "<keras.callbacks.History at 0x1dedff04cd0>"
      ]
     },
     "execution_count": 371,
     "metadata": {},
     "output_type": "execute_result"
    }
   ],
   "source": [
    "model.fit(X_train, y_train, epochs=10, batch_size=128, validation_data=(X_test, y_test), callbacks=[early_stopping])"
   ]
  },
  {
   "cell_type": "code",
   "execution_count": 372,
   "id": "d72dc087",
   "metadata": {},
   "outputs": [
    {
     "name": "stdout",
     "output_type": "stream",
     "text": [
      "391/391 [==============================] - 7s 18ms/step - loss: 0.2905 - accuracy: 0.8826\n"
     ]
    }
   ],
   "source": [
    "score = model.evaluate(X_test, y_test)"
   ]
  },
  {
   "cell_type": "markdown",
   "id": "777d5f2c",
   "metadata": {},
   "source": [
    "# Model evaluation"
   ]
  },
  {
   "cell_type": "markdown",
   "id": "c3725e3b",
   "metadata": {},
   "source": [
    "## Confusion matrix"
   ]
  },
  {
   "cell_type": "code",
   "execution_count": 373,
   "id": "519d911c",
   "metadata": {},
   "outputs": [],
   "source": [
    "from sklearn.metrics import confusion_matrix\n",
    "from sklearn.metrics import ConfusionMatrixDisplay\n",
    "import matplotlib.pyplot as plt"
   ]
  },
  {
   "cell_type": "code",
   "execution_count": 374,
   "id": "bfa67568",
   "metadata": {
    "scrolled": true
   },
   "outputs": [
    {
     "name": "stdout",
     "output_type": "stream",
     "text": [
      "391/391 [==============================] - 9s 22ms/step\n"
     ]
    }
   ],
   "source": [
    "y_pred = model.predict(X_test)"
   ]
  },
  {
   "cell_type": "code",
   "execution_count": 375,
   "id": "d4773fc4",
   "metadata": {},
   "outputs": [
    {
     "name": "stdout",
     "output_type": "stream",
     "text": [
      "[[0.9720635 ]\n",
      " [0.01517473]\n",
      " [0.9693295 ]]\n"
     ]
    }
   ],
   "source": [
    "print(y_pred[:3])"
   ]
  },
  {
   "cell_type": "code",
   "execution_count": 376,
   "id": "387dd340",
   "metadata": {},
   "outputs": [],
   "source": [
    "for i in range(len(y_pred)):\n",
    "    if y_pred[i] > 0.5:\n",
    "        y_pred[i] = 1\n",
    "    else:\n",
    "        y_pred[i] = 0"
   ]
  },
  {
   "cell_type": "code",
   "execution_count": 377,
   "id": "c8ce6116",
   "metadata": {},
   "outputs": [
    {
     "name": "stdout",
     "output_type": "stream",
     "text": [
      "[[1.]\n",
      " [0.]\n",
      " [1.]]\n"
     ]
    }
   ],
   "source": [
    "print(y_pred[:3])"
   ]
  },
  {
   "cell_type": "code",
   "execution_count": 379,
   "id": "7a7e6be5",
   "metadata": {},
   "outputs": [
    {
     "name": "stdout",
     "output_type": "stream",
     "text": [
      "Confusion Matrix: [[5513  778]\n",
      " [ 689 5520]]\n"
     ]
    }
   ],
   "source": [
    "cm = confusion_matrix(y_test, y_pred)\n",
    "print(\"Confusion Matrix:\", cm)"
   ]
  },
  {
   "cell_type": "code",
   "execution_count": 380,
   "id": "5b8c0df0",
   "metadata": {},
   "outputs": [
    {
     "data": {
      "image/png": "[encoded data removed]",
      "text/plain": [
       "<Figure size 640x480 with 2 Axes>"
      ]
     },
     "metadata": {},
     "output_type": "display_data"
    }
   ],
   "source": [
    "display = ConfusionMatrixDisplay(confusion_matrix = cm, display_labels = (\"positive\", \"negative\"))\n",
    "display.plot()\n",
    "plt.show()"
   ]
  }
 ],
 "metadata": {
  "kernelspec": {
   "display_name": "Python 3 (ipykernel)",
   "language": "python",
   "name": "python3"
  },
  "language_info": {
   "codemirror_mode": {
    "name": "ipython",
    "version": 3
   },
   "file_extension": ".py",
   "mimetype": "text/x-python",
   "name": "python",
   "nbconvert_exporter": "python",
   "pygments_lexer": "ipython3",
   "version": "3.10.9"
  }
 },
 "nbformat": 4,
 "nbformat_minor": 5
}
